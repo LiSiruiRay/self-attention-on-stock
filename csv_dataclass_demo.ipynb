{
 "cells": [
  {
   "cell_type": "code",
   "execution_count": 2,
   "id": "ac1cc317-ea22-4ff4-894e-bd910437bd55",
   "metadata": {
    "is_executing": true
   },
   "outputs": [],
   "source": [
    "from datatype.csv_read_data_type import CSVDS\n",
    "file_path = \"data/dataset.csv\"\n",
    "cds = CSVDS(file_path)"
   ]
  },
  {
   "cell_type": "code",
   "execution_count": null,
   "id": "874bb87579a20aa0",
   "metadata": {
    "collapsed": false,
    "jupyter": {
     "outputs_hidden": false
    }
   },
   "outputs": [],
   "source": [
    "cds.loading_data()"
   ]
  },
  {
   "cell_type": "code",
   "execution_count": null,
   "id": "4c4ff54d-d40f-4aa2-82a6-04cfe9bbc03c",
   "metadata": {},
   "outputs": [],
   "source": []
  }
 ],
 "metadata": {
  "kernelspec": {
   "display_name": "Python lee_ml_class",
   "language": "python",
   "name": "lee_ml_class_kernel"
  },
  "language_info": {
   "codemirror_mode": {
    "name": "ipython",
    "version": 3
   },
   "file_extension": ".py",
   "mimetype": "text/x-python",
   "name": "python",
   "nbconvert_exporter": "python",
   "pygments_lexer": "ipython3",
   "version": "3.10.13"
  }
 },
 "nbformat": 4,
 "nbformat_minor": 5
}
