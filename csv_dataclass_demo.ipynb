{
 "cells": [
  {
   "cell_type": "code",
   "execution_count": 2,
   "id": "ac1cc317-ea22-4ff4-894e-bd910437bd55",
   "metadata": {
    "is_executing": true
   },
   "outputs": [
    {
     "name": "stderr",
     "output_type": "stream",
     "text": [
      "/Users/ray/rayfile/self-project/self_attention_model/datatype/csv_read_data_type.py:48: FutureWarning: Series.__getitem__ treating keys as positions is deprecated. In a future version, integer keys will always be treated as labels (consistent with DataFrame behavior). To access a value by position, use `ser.iloc[pos]`\n",
      "  time_vec = torch.tensor(time_info)\n",
      "/Users/ray/rayfile/self-project/self_attention_model/datatype/csv_read_data_type.py:54: FutureWarning: Series.__getitem__ treating keys as positions is deprecated. In a future version, integer keys will always be treated as labels (consistent with DataFrame behavior). To access a value by position, use `ser.iloc[pos]`\n",
      "  return (passage_vec.float(), time_vec, effect_time), torch.tensor(target_vec).float()\n"
     ]
    },
    {
     "data": {
      "text/plain": [
       "((tensor([-2.0713e+00, -9.4251e-01,  2.9649e-01, -4.7745e-01, -4.6448e-01,\n",
       "           1.3223e+00, -3.5414e-01,  5.6563e-01,  5.7295e-01, -6.2319e-01,\n",
       "           2.3873e-01, -1.1198e-01, -4.6551e-02, -2.5485e-01, -9.4490e-01,\n",
       "          -1.7456e-01,  2.6094e-02,  2.1234e-01,  4.5238e-01,  5.7994e-01,\n",
       "           2.8000e-01,  7.4066e-01,  1.1229e-02, -2.6274e-02, -3.3673e-01,\n",
       "          -3.9361e-01,  3.1823e-01, -8.2037e-01,  6.3477e-01,  1.9216e-01,\n",
       "           6.6900e-02,  9.7638e-02, -3.4970e-01,  4.9614e-02, -3.7287e-01,\n",
       "           6.1151e-02, -2.9344e-01, -4.8514e-01,  1.5223e-01,  7.5982e-03,\n",
       "          -1.0460e-01,  2.9602e-01, -1.0321e-01, -5.6293e-02,  4.6232e-01,\n",
       "           1.4822e-01, -2.1857e-01,  1.8426e-01, -7.3967e-02,  2.1897e-01,\n",
       "          -1.4300e-01, -2.2491e-01, -4.6250e-03, -5.8564e-01, -1.8388e-01,\n",
       "           1.7607e-01,  1.7841e-01, -1.1566e-02, -3.1123e-01, -8.3203e-02,\n",
       "          -3.8209e-01, -8.2438e-02, -2.0563e-01, -1.1300e-01, -1.9053e-02,\n",
       "           1.8776e-03, -1.3310e-01, -2.3132e-01,  3.7069e-02, -1.5009e-01,\n",
       "          -1.8318e-01, -1.5533e-01,  1.3855e-01, -2.5499e-02,  1.3260e-01,\n",
       "           2.0617e-01,  1.6692e-02,  1.0676e-01,  1.2544e-01,  1.0555e-01,\n",
       "           7.2039e-02, -1.3464e-01, -5.3087e-02,  1.6698e-01,  2.4363e-03,\n",
       "           1.3507e-01,  8.3036e-02,  1.6738e-01, -8.1146e-02,  1.2078e-01,\n",
       "          -3.5875e-01,  4.6213e-02, -1.8719e-01, -1.3440e-01, -5.2826e-02,\n",
       "           1.6732e-02,  4.5330e-03,  1.1235e-01,  3.3305e-01, -3.3838e-02,\n",
       "          -2.7595e-01, -4.0071e-02, -4.5111e-02,  2.2957e-02, -1.3160e-01,\n",
       "          -2.6610e-02,  3.2816e-02, -1.0228e-01,  1.7288e-02,  3.5260e-02,\n",
       "          -6.0864e-02,  1.4827e-01,  8.4541e-02,  1.2839e-01,  1.0267e-01,\n",
       "          -1.1099e-01,  9.8304e-02,  2.3909e-01, -1.1326e-02,  1.8062e-02,\n",
       "           1.3501e-01, -1.1094e-01,  1.3626e-01,  2.4737e-02,  2.0340e-01,\n",
       "           5.8557e-02, -8.0222e-02,  1.1118e-01]),\n",
       "  tensor([9.4881, 7.0472, 3.8312], dtype=torch.float64),\n",
       "  tensor(0.0003, dtype=torch.float64)),\n",
       " tensor([ 3.4276,  7.8975,  3.5336, -0.0353,  0.1731]))"
      ]
     },
     "execution_count": 2,
     "metadata": {},
     "output_type": "execute_result"
    }
   ],
   "source": [
    "from datatype.csv_read_data_type import CSVDSOTR\n",
    "file_path = \"data/test_data.csv\"\n",
    "cds = CSVDSOTR(file_path, use_reduced_passage_vec=True)\n",
    "cds.load_data()\n",
    "cds[0]"
   ]
  },
  {
   "cell_type": "code",
   "execution_count": null,
   "id": "874bb87579a20aa0",
   "metadata": {
    "collapsed": false,
    "jupyter": {
     "outputs_hidden": false
    }
   },
   "outputs": [],
   "source": []
  },
  {
   "cell_type": "code",
   "execution_count": null,
   "id": "6e58d73c-6489-40c5-a324-9ee3e9f39a4f",
   "metadata": {},
   "outputs": [],
   "source": []
  }
 ],
 "metadata": {
  "kernelspec": {
   "display_name": "Python lee_ml_class",
   "language": "python",
   "name": "lee_ml_class_kernel"
  },
  "language_info": {
   "codemirror_mode": {
    "name": "ipython",
    "version": 3
   },
   "file_extension": ".py",
   "mimetype": "text/x-python",
   "name": "python",
   "nbconvert_exporter": "python",
   "pygments_lexer": "ipython3",
   "version": "3.10.13"
  }
 },
 "nbformat": 4,
 "nbformat_minor": 5
}
