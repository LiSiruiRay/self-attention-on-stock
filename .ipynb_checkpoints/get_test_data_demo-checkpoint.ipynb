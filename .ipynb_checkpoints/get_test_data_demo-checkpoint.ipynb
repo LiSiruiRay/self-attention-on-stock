{
 "cells": [
  {
   "cell_type": "code",
   "execution_count": 1,
   "id": "2515f7a9-f0d6-4793-93ce-020b6f288e55",
   "metadata": {},
   "outputs": [
    {
     "name": "stdout",
     "output_type": "stream",
     "text": [
      "Hash Code: d6584ebc7b834c41be20f958e036f1a1\n"
     ]
    }
   ],
   "source": [
    "from datatype.training_dataset import Mydataset\n",
    "use_reduced_passage_vec = False\n",
    "mds = Mydataset(use_reduced_passage_vec=use_reduced_passage_vec)\n",
    "sample_news = \"\"\"Meta, formerly known as Facebook, has issued new guidelines for its return-to-office policy, requiring employees to be in their assigned offices most of the week. Attendance will be monitored and tracked, and those who do not comply may face termination or negative performance reviews. The company's CEO, Mark Zuckerberg, has shifted his stance on remote work and is now implementing a more aggressive return-to-office mandate. The new policy is similar to Amazon's and Google's, both of which require employees to work in-office at least three days a week.\"\"\""
   ]
  },
  {
   "cell_type": "code",
   "execution_count": 55,
   "id": "23eed276-60b9-4d4e-a9d8-ec8a185b52f8",
   "metadata": {},
   "outputs": [
    {
     "data": {
      "text/plain": [
       "[3.4722222222222223,\n",
       " 6.944444444444445,\n",
       " 10.416666666666666,\n",
       " 13.88888888888889,\n",
       " 17.36111111111111,\n",
       " 20.833333333333332,\n",
       " 24.305555555555557,\n",
       " 27.77777777777778,\n",
       " 31.25,\n",
       " 34.72222222222222,\n",
       " 38.19444444444444,\n",
       " 41.666666666666664,\n",
       " 45.138888888888886,\n",
       " 48.611111111111114,\n",
       " 52.08333333333333,\n",
       " 55.55555555555556,\n",
       " 59.02777777777778,\n",
       " 62.5,\n",
       " 65.97222222222223,\n",
       " 69.44444444444444]"
      ]
     },
     "execution_count": 55,
     "metadata": {},
     "output_type": "execute_result"
    }
   ],
   "source": [
    "time_effect_factor = 48*60*60*1000\n",
    "input_vec = mds.get_vector_data_from_text(sample_news)\n",
    "time_effects_20h = []\n",
    "time_effects_20h_h = []\n",
    "for i in range(1, 21):\n",
    "    time_effects_20h.append((i*60*1000 / time_effect_factor) * 10000)\n",
    "    time_effects_20h_h.append(i)\n",
    "\n",
    "\n",
    "time_effects_20h[19] = 10000000"
   ]
  },
  {
   "cell_type": "code",
   "execution_count": 3,
   "id": "f6781409-23ed-4fb7-b65a-fd42def6a7fb",
   "metadata": {},
   "outputs": [
    {
     "data": {
      "text/plain": [
       "tensor([0.0003])"
      ]
     },
     "execution_count": 3,
     "metadata": {},
     "output_type": "execute_result"
    }
   ],
   "source": [
    "input_vec[0][2]"
   ]
  },
  {
   "cell_type": "code",
   "execution_count": 56,
   "id": "21d028d6-5ef4-4ce7-ae44-2d535f60f2c0",
   "metadata": {},
   "outputs": [],
   "source": [
    "input_vec_list = []\n",
    "for i in time_effects_20h:\n",
    "    each_vec = ((input_vec[0][0].unsqueeze(0), input_vec[0][1].unsqueeze(0), (input_vec[0][2] + i).unsqueeze(0)), input_vec[1])\n",
    "    input_vec_list.append(each_vec)"
   ]
  },
  {
   "cell_type": "code",
   "execution_count": 5,
   "id": "594d0851-d389-474c-a6b4-adc7b3006703",
   "metadata": {},
   "outputs": [
    {
     "data": {
      "text/plain": [
       "tensor([0.0006])"
      ]
     },
     "execution_count": 5,
     "metadata": {},
     "output_type": "execute_result"
    }
   ],
   "source": [
    "input_vec_list[0][0][2]"
   ]
  },
  {
   "cell_type": "code",
   "execution_count": 6,
   "id": "c030a41e-4403-49c0-844a-e803c9e8be0d",
   "metadata": {},
   "outputs": [
    {
     "data": {
      "text/plain": [
       "tensor([0.0013])"
      ]
     },
     "execution_count": 6,
     "metadata": {},
     "output_type": "execute_result"
    }
   ],
   "source": [
    "input_vec_list[2][0][2]"
   ]
  },
  {
   "cell_type": "code",
   "execution_count": 8,
   "id": "91013a76-a85a-4804-b6fd-8f672822bf5d",
   "metadata": {},
   "outputs": [],
   "source": [
    "timestr = mds.get_timestr_from_text_data(sample_news)"
   ]
  },
  {
   "cell_type": "code",
   "execution_count": 9,
   "id": "a9d5ad8d-5280-4d2e-bb65-8e6576e8c822",
   "metadata": {},
   "outputs": [
    {
     "data": {
      "text/plain": [
       "'2023-08-18T21:54:15.999516+00:00'"
      ]
     },
     "execution_count": 9,
     "metadata": {},
     "output_type": "execute_result"
    }
   ],
   "source": [
    "timestr"
   ]
  },
  {
   "cell_type": "code",
   "execution_count": 10,
   "id": "2c32189d-08a2-4be2-a2bb-0908d81fe06e",
   "metadata": {},
   "outputs": [
    {
     "data": {
      "text/plain": [
       "datetime.datetime(2023, 8, 18, 21, 54, 15, 999516, tzinfo=datetime.timezone.utc)"
      ]
     },
     "execution_count": 10,
     "metadata": {},
     "output_type": "execute_result"
    }
   ],
   "source": [
    "from datetime import datetime, timedelta\n",
    "\n",
    "# The given timestamp string\n",
    "timestamp_str = '2023-08-18T21:54:15.999516+00:00'\n",
    "\n",
    "# Convert the string to a datetime object\n",
    "timestamp_dt = datetime.strptime(timestamp_str, '%Y-%m-%dT%H:%M:%S.%f%z')\n",
    "timestamp_dt"
   ]
  },
  {
   "cell_type": "code",
   "execution_count": 13,
   "id": "b4bfd09b-a40a-411d-b2eb-e1bf5930f4a1",
   "metadata": {},
   "outputs": [],
   "source": [
    "dt_list = []\n",
    "for i in time_effects_20h_h:\n",
    "    curr_time = timestamp_dt + timedelta(hours=i)\n",
    "    dt_list.append(curr_time)\n",
    "    "
   ]
  },
  {
   "cell_type": "code",
   "execution_count": 14,
   "id": "56d17494-ced1-4bb3-927b-c1ea67e6b41f",
   "metadata": {},
   "outputs": [
    {
     "data": {
      "text/plain": [
       "[datetime.datetime(2023, 8, 18, 22, 54, 15, 999516, tzinfo=datetime.timezone.utc),\n",
       " datetime.datetime(2023, 8, 18, 23, 54, 15, 999516, tzinfo=datetime.timezone.utc),\n",
       " datetime.datetime(2023, 8, 19, 0, 54, 15, 999516, tzinfo=datetime.timezone.utc),\n",
       " datetime.datetime(2023, 8, 19, 1, 54, 15, 999516, tzinfo=datetime.timezone.utc),\n",
       " datetime.datetime(2023, 8, 19, 2, 54, 15, 999516, tzinfo=datetime.timezone.utc),\n",
       " datetime.datetime(2023, 8, 19, 3, 54, 15, 999516, tzinfo=datetime.timezone.utc),\n",
       " datetime.datetime(2023, 8, 19, 4, 54, 15, 999516, tzinfo=datetime.timezone.utc),\n",
       " datetime.datetime(2023, 8, 19, 5, 54, 15, 999516, tzinfo=datetime.timezone.utc),\n",
       " datetime.datetime(2023, 8, 19, 6, 54, 15, 999516, tzinfo=datetime.timezone.utc),\n",
       " datetime.datetime(2023, 8, 19, 7, 54, 15, 999516, tzinfo=datetime.timezone.utc),\n",
       " datetime.datetime(2023, 8, 19, 8, 54, 15, 999516, tzinfo=datetime.timezone.utc),\n",
       " datetime.datetime(2023, 8, 19, 9, 54, 15, 999516, tzinfo=datetime.timezone.utc),\n",
       " datetime.datetime(2023, 8, 19, 10, 54, 15, 999516, tzinfo=datetime.timezone.utc),\n",
       " datetime.datetime(2023, 8, 19, 11, 54, 15, 999516, tzinfo=datetime.timezone.utc),\n",
       " datetime.datetime(2023, 8, 19, 12, 54, 15, 999516, tzinfo=datetime.timezone.utc),\n",
       " datetime.datetime(2023, 8, 19, 13, 54, 15, 999516, tzinfo=datetime.timezone.utc),\n",
       " datetime.datetime(2023, 8, 19, 14, 54, 15, 999516, tzinfo=datetime.timezone.utc),\n",
       " datetime.datetime(2023, 8, 19, 15, 54, 15, 999516, tzinfo=datetime.timezone.utc),\n",
       " datetime.datetime(2023, 8, 19, 16, 54, 15, 999516, tzinfo=datetime.timezone.utc),\n",
       " datetime.datetime(2023, 8, 19, 17, 54, 15, 999516, tzinfo=datetime.timezone.utc)]"
      ]
     },
     "execution_count": 14,
     "metadata": {},
     "output_type": "execute_result"
    }
   ],
   "source": [
    "dt_list"
   ]
  },
  {
   "cell_type": "code",
   "execution_count": 36,
   "id": "4e45ba5b-d864-4813-9455-532b91469aa4",
   "metadata": {},
   "outputs": [
    {
     "name": "stderr",
     "output_type": "stream",
     "text": [
      "/Users/ray/.pyenv/versions/3.10.13/envs/lee_ml_class/lib/python3.10/site-packages/torch/nn/modules/transformer.py:282: UserWarning: enable_nested_tensor is True, but self.use_nested_tensor is False because encoder_layer.self_attn.batch_first was not True(use batch_first for better inference performance)\n",
      "  warnings.warn(f\"enable_nested_tensor is True, but self.use_nested_tensor is False because {why_not_sparsity_fast_path}\")\n"
     ]
    },
    {
     "data": {
      "text/plain": [
       "StockPredictionModel(\n",
       "  (linear1): Linear(in_features=772, out_features=1024, bias=True)\n",
       "  (transformer_encoder_layer): TransformerEncoderLayer(\n",
       "    (self_attn): MultiheadAttention(\n",
       "      (out_proj): NonDynamicallyQuantizableLinear(in_features=1024, out_features=1024, bias=True)\n",
       "    )\n",
       "    (linear1): Linear(in_features=1024, out_features=2048, bias=True)\n",
       "    (dropout): Dropout(p=0.1, inplace=False)\n",
       "    (linear2): Linear(in_features=2048, out_features=1024, bias=True)\n",
       "    (norm1): LayerNorm((1024,), eps=1e-05, elementwise_affine=True)\n",
       "    (norm2): LayerNorm((1024,), eps=1e-05, elementwise_affine=True)\n",
       "    (dropout1): Dropout(p=0.1, inplace=False)\n",
       "    (dropout2): Dropout(p=0.1, inplace=False)\n",
       "  )\n",
       "  (transformer_encoder): TransformerEncoder(\n",
       "    (layers): ModuleList(\n",
       "      (0-14): 15 x TransformerEncoderLayer(\n",
       "        (self_attn): MultiheadAttention(\n",
       "          (out_proj): NonDynamicallyQuantizableLinear(in_features=1024, out_features=1024, bias=True)\n",
       "        )\n",
       "        (linear1): Linear(in_features=1024, out_features=2048, bias=True)\n",
       "        (dropout): Dropout(p=0.1, inplace=False)\n",
       "        (linear2): Linear(in_features=2048, out_features=1024, bias=True)\n",
       "        (norm1): LayerNorm((1024,), eps=1e-05, elementwise_affine=True)\n",
       "        (norm2): LayerNorm((1024,), eps=1e-05, elementwise_affine=True)\n",
       "        (dropout1): Dropout(p=0.1, inplace=False)\n",
       "        (dropout2): Dropout(p=0.1, inplace=False)\n",
       "      )\n",
       "    )\n",
       "  )\n",
       "  (linear2): Linear(in_features=1024, out_features=6, bias=True)\n",
       ")"
      ]
     },
     "execution_count": 36,
     "metadata": {},
     "output_type": "execute_result"
    }
   ],
   "source": [
    "from training_pipeline import StockPredictionModel\n",
    "import torch\n",
    "import torch.nn as nn\n",
    "config = {\n",
    "    \"passage vector size\": 768,\n",
    "    \"time_features\": 3,  # Assuming time_features is 3 for this example\n",
    "    \"d_model\": 1024,\n",
    "    \"output_size\": 6,  # Define your model's output size\n",
    "    \"nhead\": 4,\n",
    "    \"transformer encoder layer num\": 15,\n",
    "}\n",
    "model = StockPredictionModel(passage_vec_size=config[\"passage vector size\"],\n",
    "                             time_features=config[\"time_features\"],\n",
    "                             d_model=config[\"d_model\"],\n",
    "                             output_size=config[\"output_size\"],\n",
    "                             nhead=config[\"nhead\"],\n",
    "                             transformer_encoder_layer_num=config[\"transformer encoder layer num\"])\n",
    "model_path = \"model/check_points/2024-01-30-21@07@41-UTC+0000_25/checkpoint_epoch_8_step_7000.pth\"\n",
    "\n",
    "checkpoint = torch.load(model_path, map_location=torch.device('mps'))\n",
    "model.load_state_dict(checkpoint[\"model_state_dict\"])\n",
    "model.eval()\n",
    "\n",
    "device = torch.device(\"mps\")\n",
    "model.to(device)"
   ]
  },
  {
   "cell_type": "code",
   "execution_count": null,
   "id": "67866f84-5f91-424c-a8e9-27afb836088b",
   "metadata": {},
   "outputs": [],
   "source": []
  },
  {
   "cell_type": "code",
   "execution_count": 16,
   "id": "ac3838f2-d937-4f84-8902-97074c19a243",
   "metadata": {},
   "outputs": [],
   "source": [
    "import plotly.graph_objs as go\n",
    "import plotly.express as px"
   ]
  },
  {
   "cell_type": "code",
   "execution_count": 27,
   "id": "99dbd584-5f50-4239-bc53-72041c9e7e11",
   "metadata": {},
   "outputs": [
    {
     "data": {
      "text/plain": [
       "tensor([1.0000, 0.0034, 0.0000])"
      ]
     },
     "execution_count": 27,
     "metadata": {},
     "output_type": "execute_result"
    }
   ],
   "source": [
    "input_vec_list[5][0][1]"
   ]
  },
  {
   "cell_type": "code",
   "execution_count": 31,
   "id": "08ed507a-eaa6-4edf-880b-f289ecea6796",
   "metadata": {},
   "outputs": [
    {
     "data": {
      "text/plain": [
       "torch.Size([768])"
      ]
     },
     "execution_count": 31,
     "metadata": {},
     "output_type": "execute_result"
    }
   ],
   "source": [
    "input_vec[0][0].shape"
   ]
  },
  {
   "cell_type": "code",
   "execution_count": 57,
   "id": "cfb7d77e-7e5a-4640-9d23-39ccda9e0ffb",
   "metadata": {},
   "outputs": [
    {
     "name": "stdout",
     "output_type": "stream",
     "text": [
      "tensor([[3.4725]], device='mps:0')\n",
      "tensor([[6.9447]], device='mps:0')\n",
      "tensor([[10.4169]], device='mps:0')\n",
      "tensor([[13.8891]], device='mps:0')\n",
      "tensor([[17.3614]], device='mps:0')\n",
      "tensor([[20.8336]], device='mps:0')\n",
      "tensor([[24.3058]], device='mps:0')\n",
      "tensor([[27.7780]], device='mps:0')\n",
      "tensor([[31.2503]], device='mps:0')\n",
      "tensor([[34.7225]], device='mps:0')\n",
      "tensor([[38.1947]], device='mps:0')\n",
      "tensor([[41.6669]], device='mps:0')\n",
      "tensor([[45.1391]], device='mps:0')\n",
      "tensor([[48.6114]], device='mps:0')\n",
      "tensor([[52.0836]], device='mps:0')\n",
      "tensor([[55.5558]], device='mps:0')\n",
      "tensor([[59.0280]], device='mps:0')\n",
      "tensor([[62.5003]], device='mps:0')\n",
      "tensor([[65.9725]], device='mps:0')\n",
      "tensor([[69.4447]], device='mps:0')\n"
     ]
    }
   ],
   "source": [
    "result_vec_list = []\n",
    "for i in input_vec_list:\n",
    "    input_tensors = [tensor.to(device) for tensor in i[0]]\n",
    "    r = model(*input_tensors)\n",
    "    print(input_tensors[2])\n",
    "    result_vec_list.append(r)"
   ]
  },
  {
   "cell_type": "code",
   "execution_count": 54,
   "id": "bd07483b-924a-4dac-ab3d-8fdd0582c2ce",
   "metadata": {},
   "outputs": [
    {
     "data": {
      "text/plain": [
       "[tensor([[0.0086, 0.0105, 0.0015, 0.0144, 0.0182, 0.0508]], device='mps:0',\n",
       "        grad_fn=<LinearBackward0>),\n",
       " tensor([[0.0086, 0.0105, 0.0015, 0.0144, 0.0182, 0.0508]], device='mps:0',\n",
       "        grad_fn=<LinearBackward0>),\n",
       " tensor([[0.0086, 0.0105, 0.0015, 0.0144, 0.0182, 0.0508]], device='mps:0',\n",
       "        grad_fn=<LinearBackward0>),\n",
       " tensor([[0.0086, 0.0105, 0.0015, 0.0144, 0.0182, 0.0508]], device='mps:0',\n",
       "        grad_fn=<LinearBackward0>),\n",
       " tensor([[0.0086, 0.0105, 0.0015, 0.0144, 0.0182, 0.0508]], device='mps:0',\n",
       "        grad_fn=<LinearBackward0>),\n",
       " tensor([[0.0086, 0.0105, 0.0015, 0.0144, 0.0182, 0.0508]], device='mps:0',\n",
       "        grad_fn=<LinearBackward0>),\n",
       " tensor([[0.0086, 0.0105, 0.0015, 0.0144, 0.0182, 0.0508]], device='mps:0',\n",
       "        grad_fn=<LinearBackward0>),\n",
       " tensor([[0.0086, 0.0105, 0.0015, 0.0144, 0.0182, 0.0508]], device='mps:0',\n",
       "        grad_fn=<LinearBackward0>),\n",
       " tensor([[0.0086, 0.0105, 0.0015, 0.0144, 0.0182, 0.0508]], device='mps:0',\n",
       "        grad_fn=<LinearBackward0>),\n",
       " tensor([[0.0086, 0.0105, 0.0015, 0.0144, 0.0182, 0.0508]], device='mps:0',\n",
       "        grad_fn=<LinearBackward0>),\n",
       " tensor([[0.0086, 0.0105, 0.0015, 0.0144, 0.0182, 0.0508]], device='mps:0',\n",
       "        grad_fn=<LinearBackward0>),\n",
       " tensor([[0.0086, 0.0105, 0.0015, 0.0144, 0.0182, 0.0508]], device='mps:0',\n",
       "        grad_fn=<LinearBackward0>),\n",
       " tensor([[0.0086, 0.0105, 0.0015, 0.0144, 0.0182, 0.0508]], device='mps:0',\n",
       "        grad_fn=<LinearBackward0>),\n",
       " tensor([[0.0086, 0.0105, 0.0015, 0.0144, 0.0182, 0.0508]], device='mps:0',\n",
       "        grad_fn=<LinearBackward0>),\n",
       " tensor([[0.0086, 0.0105, 0.0015, 0.0144, 0.0182, 0.0508]], device='mps:0',\n",
       "        grad_fn=<LinearBackward0>),\n",
       " tensor([[0.0086, 0.0105, 0.0015, 0.0144, 0.0182, 0.0508]], device='mps:0',\n",
       "        grad_fn=<LinearBackward0>),\n",
       " tensor([[0.0086, 0.0105, 0.0015, 0.0144, 0.0182, 0.0508]], device='mps:0',\n",
       "        grad_fn=<LinearBackward0>),\n",
       " tensor([[0.0086, 0.0105, 0.0015, 0.0144, 0.0182, 0.0508]], device='mps:0',\n",
       "        grad_fn=<LinearBackward0>),\n",
       " tensor([[0.0086, 0.0105, 0.0015, 0.0144, 0.0182, 0.0508]], device='mps:0',\n",
       "        grad_fn=<LinearBackward0>),\n",
       " tensor([[0.0086, 0.0105, 0.0015, 0.0144, 0.0182, 0.0508]], device='mps:0',\n",
       "        grad_fn=<LinearBackward0>)]"
      ]
     },
     "execution_count": 54,
     "metadata": {},
     "output_type": "execute_result"
    }
   ],
   "source": [
    "result_vec_list"
   ]
  },
  {
   "cell_type": "code",
   "execution_count": 40,
   "id": "4d3fef70-d2dd-4303-896c-bab136a5c36b",
   "metadata": {},
   "outputs": [],
   "source": [
    "# change_rate = float((float(stock_price_next) - float(stock_price_curr)) / float(stock_price_curr)) * 100.0"
   ]
  },
  {
   "cell_type": "code",
   "execution_count": 58,
   "id": "76bac6de-2d8c-47a9-92d0-ecd0671e40dc",
   "metadata": {},
   "outputs": [],
   "source": [
    "def get_next_price(r, c): #chagne rate and current price\n",
    "    return 100*c / (100 - r)"
   ]
  },
  {
   "cell_type": "code",
   "execution_count": 42,
   "id": "2deac832-f243-4260-9541-7777dba0b5a7",
   "metadata": {},
   "outputs": [],
   "source": [
    "#stock price at 16:54:15.999516: 282.8550\n",
    "#TODO: might have some improvement for stock data"
   ]
  },
  {
   "cell_type": "code",
   "execution_count": 59,
   "id": "486803fc-3794-49d3-9019-6380e569725f",
   "metadata": {},
   "outputs": [],
   "source": [
    "predicted_list = []\n",
    "for i in result_vec_list:\n",
    "    fluc = i[0, 0].item()\n",
    "    price = get_next_price(fluc, 282.8550)\n",
    "    predicted_list.append(price)"
   ]
  },
  {
   "cell_type": "code",
   "execution_count": 60,
   "id": "1051a445-b4ec-4b1b-acfd-7707026094c8",
   "metadata": {},
   "outputs": [
    {
     "data": {
      "text/plain": [
       "[282.8794562302637,\n",
       " 282.8794562302637,\n",
       " 282.8794562302637,\n",
       " 282.8794562302637,\n",
       " 282.87945622762896,\n",
       " 282.8794562302637,\n",
       " 282.8794562302637,\n",
       " 282.8794562302637,\n",
       " 282.8794562302637,\n",
       " 282.8794562302637,\n",
       " 282.87945622762896,\n",
       " 282.8794562302637,\n",
       " 282.8794562302637,\n",
       " 282.8794562302637,\n",
       " 282.8794562302637,\n",
       " 282.8794562302637,\n",
       " 282.8794562302637,\n",
       " 282.87945622762896,\n",
       " 282.8794562302637,\n",
       " 282.8794562302637]"
      ]
     },
     "execution_count": 60,
     "metadata": {},
     "output_type": "execute_result"
    }
   ],
   "source": [
    "predicted_list"
   ]
  },
  {
   "cell_type": "code",
   "execution_count": 61,
   "id": "f0df8056-c0ea-40d9-a598-8fc1044988d7",
   "metadata": {},
   "outputs": [],
   "source": [
    "import pandas as pd\n",
    "\n",
    "# Create a DataFrame\n",
    "df = pd.DataFrame({\n",
    "    'Date': dt_list,\n",
    "    'Stock Price': predicted_list\n",
    "})"
   ]
  },
  {
   "cell_type": "code",
   "execution_count": 62,
   "id": "905a7c15-a6e4-4ee0-9ef6-8f853d18a618",
   "metadata": {},
   "outputs": [
    {
     "data": {
      "application/vnd.plotly.v1+json": {
       "config": {
        "plotlyServerURL": "https://plot.ly"
       },
       "data": [
        {
         "hovertemplate": "Date=%{x}<br>Stock Price=%{y}<extra></extra>",
         "legendgroup": "",
         "line": {
          "color": "#636efa",
          "dash": "solid"
         },
         "marker": {
          "symbol": "circle"
         },
         "mode": "lines",
         "name": "",
         "orientation": "v",
         "showlegend": false,
         "type": "scatter",
         "x": [
          "2023-08-18T22:54:15.999516+00:00",
          "2023-08-18T23:54:15.999516+00:00",
          "2023-08-19T00:54:15.999516+00:00",
          "2023-08-19T01:54:15.999516+00:00",
          "2023-08-19T02:54:15.999516+00:00",
          "2023-08-19T03:54:15.999516+00:00",
          "2023-08-19T04:54:15.999516+00:00",
          "2023-08-19T05:54:15.999516+00:00",
          "2023-08-19T06:54:15.999516+00:00",
          "2023-08-19T07:54:15.999516+00:00",
          "2023-08-19T08:54:15.999516+00:00",
          "2023-08-19T09:54:15.999516+00:00",
          "2023-08-19T10:54:15.999516+00:00",
          "2023-08-19T11:54:15.999516+00:00",
          "2023-08-19T12:54:15.999516+00:00",
          "2023-08-19T13:54:15.999516+00:00",
          "2023-08-19T14:54:15.999516+00:00",
          "2023-08-19T15:54:15.999516+00:00",
          "2023-08-19T16:54:15.999516+00:00",
          "2023-08-19T17:54:15.999516+00:00"
         ],
         "xaxis": "x",
         "y": [
          282.8794562302637,
          282.8794562302637,
          282.8794562302637,
          282.8794562302637,
          282.87945622762896,
          282.8794562302637,
          282.8794562302637,
          282.8794562302637,
          282.8794562302637,
          282.8794562302637,
          282.87945622762896,
          282.8794562302637,
          282.8794562302637,
          282.8794562302637,
          282.8794562302637,
          282.8794562302637,
          282.8794562302637,
          282.87945622762896,
          282.8794562302637,
          282.8794562302637
         ],
         "yaxis": "y"
        }
       ],
       "layout": {
        "autosize": true,
        "legend": {
         "tracegroupgap": 0
        },
        "template": {
         "data": {
          "bar": [
           {
            "error_x": {
             "color": "#2a3f5f"
            },
            "error_y": {
             "color": "#2a3f5f"
            },
            "marker": {
             "line": {
              "color": "#E5ECF6",
              "width": 0.5
             },
             "pattern": {
              "fillmode": "overlay",
              "size": 10,
              "solidity": 0.2
             }
            },
            "type": "bar"
           }
          ],
          "barpolar": [
           {
            "marker": {
             "line": {
              "color": "#E5ECF6",
              "width": 0.5
             },
             "pattern": {
              "fillmode": "overlay",
              "size": 10,
              "solidity": 0.2
             }
            },
            "type": "barpolar"
           }
          ],
          "carpet": [
           {
            "aaxis": {
             "endlinecolor": "#2a3f5f",
             "gridcolor": "white",
             "linecolor": "white",
             "minorgridcolor": "white",
             "startlinecolor": "#2a3f5f"
            },
            "baxis": {
             "endlinecolor": "#2a3f5f",
             "gridcolor": "white",
             "linecolor": "white",
             "minorgridcolor": "white",
             "startlinecolor": "#2a3f5f"
            },
            "type": "carpet"
           }
          ],
          "choropleth": [
           {
            "colorbar": {
             "outlinewidth": 0,
             "ticks": ""
            },
            "type": "choropleth"
           }
          ],
          "contour": [
           {
            "colorbar": {
             "outlinewidth": 0,
             "ticks": ""
            },
            "colorscale": [
             [
              0,
              "#0d0887"
             ],
             [
              0.1111111111111111,
              "#46039f"
             ],
             [
              0.2222222222222222,
              "#7201a8"
             ],
             [
              0.3333333333333333,
              "#9c179e"
             ],
             [
              0.4444444444444444,
              "#bd3786"
             ],
             [
              0.5555555555555556,
              "#d8576b"
             ],
             [
              0.6666666666666666,
              "#ed7953"
             ],
             [
              0.7777777777777778,
              "#fb9f3a"
             ],
             [
              0.8888888888888888,
              "#fdca26"
             ],
             [
              1,
              "#f0f921"
             ]
            ],
            "type": "contour"
           }
          ],
          "contourcarpet": [
           {
            "colorbar": {
             "outlinewidth": 0,
             "ticks": ""
            },
            "type": "contourcarpet"
           }
          ],
          "heatmap": [
           {
            "colorbar": {
             "outlinewidth": 0,
             "ticks": ""
            },
            "colorscale": [
             [
              0,
              "#0d0887"
             ],
             [
              0.1111111111111111,
              "#46039f"
             ],
             [
              0.2222222222222222,
              "#7201a8"
             ],
             [
              0.3333333333333333,
              "#9c179e"
             ],
             [
              0.4444444444444444,
              "#bd3786"
             ],
             [
              0.5555555555555556,
              "#d8576b"
             ],
             [
              0.6666666666666666,
              "#ed7953"
             ],
             [
              0.7777777777777778,
              "#fb9f3a"
             ],
             [
              0.8888888888888888,
              "#fdca26"
             ],
             [
              1,
              "#f0f921"
             ]
            ],
            "type": "heatmap"
           }
          ],
          "heatmapgl": [
           {
            "colorbar": {
             "outlinewidth": 0,
             "ticks": ""
            },
            "colorscale": [
             [
              0,
              "#0d0887"
             ],
             [
              0.1111111111111111,
              "#46039f"
             ],
             [
              0.2222222222222222,
              "#7201a8"
             ],
             [
              0.3333333333333333,
              "#9c179e"
             ],
             [
              0.4444444444444444,
              "#bd3786"
             ],
             [
              0.5555555555555556,
              "#d8576b"
             ],
             [
              0.6666666666666666,
              "#ed7953"
             ],
             [
              0.7777777777777778,
              "#fb9f3a"
             ],
             [
              0.8888888888888888,
              "#fdca26"
             ],
             [
              1,
              "#f0f921"
             ]
            ],
            "type": "heatmapgl"
           }
          ],
          "histogram": [
           {
            "marker": {
             "pattern": {
              "fillmode": "overlay",
              "size": 10,
              "solidity": 0.2
             }
            },
            "type": "histogram"
           }
          ],
          "histogram2d": [
           {
            "colorbar": {
             "outlinewidth": 0,
             "ticks": ""
            },
            "colorscale": [
             [
              0,
              "#0d0887"
             ],
             [
              0.1111111111111111,
              "#46039f"
             ],
             [
              0.2222222222222222,
              "#7201a8"
             ],
             [
              0.3333333333333333,
              "#9c179e"
             ],
             [
              0.4444444444444444,
              "#bd3786"
             ],
             [
              0.5555555555555556,
              "#d8576b"
             ],
             [
              0.6666666666666666,
              "#ed7953"
             ],
             [
              0.7777777777777778,
              "#fb9f3a"
             ],
             [
              0.8888888888888888,
              "#fdca26"
             ],
             [
              1,
              "#f0f921"
             ]
            ],
            "type": "histogram2d"
           }
          ],
          "histogram2dcontour": [
           {
            "colorbar": {
             "outlinewidth": 0,
             "ticks": ""
            },
            "colorscale": [
             [
              0,
              "#0d0887"
             ],
             [
              0.1111111111111111,
              "#46039f"
             ],
             [
              0.2222222222222222,
              "#7201a8"
             ],
             [
              0.3333333333333333,
              "#9c179e"
             ],
             [
              0.4444444444444444,
              "#bd3786"
             ],
             [
              0.5555555555555556,
              "#d8576b"
             ],
             [
              0.6666666666666666,
              "#ed7953"
             ],
             [
              0.7777777777777778,
              "#fb9f3a"
             ],
             [
              0.8888888888888888,
              "#fdca26"
             ],
             [
              1,
              "#f0f921"
             ]
            ],
            "type": "histogram2dcontour"
           }
          ],
          "mesh3d": [
           {
            "colorbar": {
             "outlinewidth": 0,
             "ticks": ""
            },
            "type": "mesh3d"
           }
          ],
          "parcoords": [
           {
            "line": {
             "colorbar": {
              "outlinewidth": 0,
              "ticks": ""
             }
            },
            "type": "parcoords"
           }
          ],
          "pie": [
           {
            "automargin": true,
            "type": "pie"
           }
          ],
          "scatter": [
           {
            "fillpattern": {
             "fillmode": "overlay",
             "size": 10,
             "solidity": 0.2
            },
            "type": "scatter"
           }
          ],
          "scatter3d": [
           {
            "line": {
             "colorbar": {
              "outlinewidth": 0,
              "ticks": ""
             }
            },
            "marker": {
             "colorbar": {
              "outlinewidth": 0,
              "ticks": ""
             }
            },
            "type": "scatter3d"
           }
          ],
          "scattercarpet": [
           {
            "marker": {
             "colorbar": {
              "outlinewidth": 0,
              "ticks": ""
             }
            },
            "type": "scattercarpet"
           }
          ],
          "scattergeo": [
           {
            "marker": {
             "colorbar": {
              "outlinewidth": 0,
              "ticks": ""
             }
            },
            "type": "scattergeo"
           }
          ],
          "scattergl": [
           {
            "marker": {
             "colorbar": {
              "outlinewidth": 0,
              "ticks": ""
             }
            },
            "type": "scattergl"
           }
          ],
          "scattermapbox": [
           {
            "marker": {
             "colorbar": {
              "outlinewidth": 0,
              "ticks": ""
             }
            },
            "type": "scattermapbox"
           }
          ],
          "scatterpolar": [
           {
            "marker": {
             "colorbar": {
              "outlinewidth": 0,
              "ticks": ""
             }
            },
            "type": "scatterpolar"
           }
          ],
          "scatterpolargl": [
           {
            "marker": {
             "colorbar": {
              "outlinewidth": 0,
              "ticks": ""
             }
            },
            "type": "scatterpolargl"
           }
          ],
          "scatterternary": [
           {
            "marker": {
             "colorbar": {
              "outlinewidth": 0,
              "ticks": ""
             }
            },
            "type": "scatterternary"
           }
          ],
          "surface": [
           {
            "colorbar": {
             "outlinewidth": 0,
             "ticks": ""
            },
            "colorscale": [
             [
              0,
              "#0d0887"
             ],
             [
              0.1111111111111111,
              "#46039f"
             ],
             [
              0.2222222222222222,
              "#7201a8"
             ],
             [
              0.3333333333333333,
              "#9c179e"
             ],
             [
              0.4444444444444444,
              "#bd3786"
             ],
             [
              0.5555555555555556,
              "#d8576b"
             ],
             [
              0.6666666666666666,
              "#ed7953"
             ],
             [
              0.7777777777777778,
              "#fb9f3a"
             ],
             [
              0.8888888888888888,
              "#fdca26"
             ],
             [
              1,
              "#f0f921"
             ]
            ],
            "type": "surface"
           }
          ],
          "table": [
           {
            "cells": {
             "fill": {
              "color": "#EBF0F8"
             },
             "line": {
              "color": "white"
             }
            },
            "header": {
             "fill": {
              "color": "#C8D4E3"
             },
             "line": {
              "color": "white"
             }
            },
            "type": "table"
           }
          ]
         },
         "layout": {
          "annotationdefaults": {
           "arrowcolor": "#2a3f5f",
           "arrowhead": 0,
           "arrowwidth": 1
          },
          "autotypenumbers": "strict",
          "coloraxis": {
           "colorbar": {
            "outlinewidth": 0,
            "ticks": ""
           }
          },
          "colorscale": {
           "diverging": [
            [
             0,
             "#8e0152"
            ],
            [
             0.1,
             "#c51b7d"
            ],
            [
             0.2,
             "#de77ae"
            ],
            [
             0.3,
             "#f1b6da"
            ],
            [
             0.4,
             "#fde0ef"
            ],
            [
             0.5,
             "#f7f7f7"
            ],
            [
             0.6,
             "#e6f5d0"
            ],
            [
             0.7,
             "#b8e186"
            ],
            [
             0.8,
             "#7fbc41"
            ],
            [
             0.9,
             "#4d9221"
            ],
            [
             1,
             "#276419"
            ]
           ],
           "sequential": [
            [
             0,
             "#0d0887"
            ],
            [
             0.1111111111111111,
             "#46039f"
            ],
            [
             0.2222222222222222,
             "#7201a8"
            ],
            [
             0.3333333333333333,
             "#9c179e"
            ],
            [
             0.4444444444444444,
             "#bd3786"
            ],
            [
             0.5555555555555556,
             "#d8576b"
            ],
            [
             0.6666666666666666,
             "#ed7953"
            ],
            [
             0.7777777777777778,
             "#fb9f3a"
            ],
            [
             0.8888888888888888,
             "#fdca26"
            ],
            [
             1,
             "#f0f921"
            ]
           ],
           "sequentialminus": [
            [
             0,
             "#0d0887"
            ],
            [
             0.1111111111111111,
             "#46039f"
            ],
            [
             0.2222222222222222,
             "#7201a8"
            ],
            [
             0.3333333333333333,
             "#9c179e"
            ],
            [
             0.4444444444444444,
             "#bd3786"
            ],
            [
             0.5555555555555556,
             "#d8576b"
            ],
            [
             0.6666666666666666,
             "#ed7953"
            ],
            [
             0.7777777777777778,
             "#fb9f3a"
            ],
            [
             0.8888888888888888,
             "#fdca26"
            ],
            [
             1,
             "#f0f921"
            ]
           ]
          },
          "colorway": [
           "#636efa",
           "#EF553B",
           "#00cc96",
           "#ab63fa",
           "#FFA15A",
           "#19d3f3",
           "#FF6692",
           "#B6E880",
           "#FF97FF",
           "#FECB52"
          ],
          "font": {
           "color": "#2a3f5f"
          },
          "geo": {
           "bgcolor": "white",
           "lakecolor": "white",
           "landcolor": "#E5ECF6",
           "showlakes": true,
           "showland": true,
           "subunitcolor": "white"
          },
          "hoverlabel": {
           "align": "left"
          },
          "hovermode": "closest",
          "mapbox": {
           "style": "light"
          },
          "paper_bgcolor": "white",
          "plot_bgcolor": "#E5ECF6",
          "polar": {
           "angularaxis": {
            "gridcolor": "white",
            "linecolor": "white",
            "ticks": ""
           },
           "bgcolor": "#E5ECF6",
           "radialaxis": {
            "gridcolor": "white",
            "linecolor": "white",
            "ticks": ""
           }
          },
          "scene": {
           "xaxis": {
            "backgroundcolor": "#E5ECF6",
            "gridcolor": "white",
            "gridwidth": 2,
            "linecolor": "white",
            "showbackground": true,
            "ticks": "",
            "zerolinecolor": "white"
           },
           "yaxis": {
            "backgroundcolor": "#E5ECF6",
            "gridcolor": "white",
            "gridwidth": 2,
            "linecolor": "white",
            "showbackground": true,
            "ticks": "",
            "zerolinecolor": "white"
           },
           "zaxis": {
            "backgroundcolor": "#E5ECF6",
            "gridcolor": "white",
            "gridwidth": 2,
            "linecolor": "white",
            "showbackground": true,
            "ticks": "",
            "zerolinecolor": "white"
           }
          },
          "shapedefaults": {
           "line": {
            "color": "#2a3f5f"
           }
          },
          "ternary": {
           "aaxis": {
            "gridcolor": "white",
            "linecolor": "white",
            "ticks": ""
           },
           "baxis": {
            "gridcolor": "white",
            "linecolor": "white",
            "ticks": ""
           },
           "bgcolor": "#E5ECF6",
           "caxis": {
            "gridcolor": "white",
            "linecolor": "white",
            "ticks": ""
           }
          },
          "title": {
           "x": 0.05
          },
          "xaxis": {
           "automargin": true,
           "gridcolor": "white",
           "linecolor": "white",
           "ticks": "",
           "title": {
            "standoff": 15
           },
           "zerolinecolor": "white",
           "zerolinewidth": 2
          },
          "yaxis": {
           "automargin": true,
           "gridcolor": "white",
           "linecolor": "white",
           "ticks": "",
           "title": {
            "standoff": 15
           },
           "zerolinecolor": "white",
           "zerolinewidth": 2
          }
         }
        },
        "title": {
         "text": "Stock Price Over Time"
        },
        "xaxis": {
         "anchor": "y",
         "autorange": true,
         "domain": [
          0,
          1
         ],
         "range": [
          "2023-08-18 22:54:15.9995",
          "2023-08-19 17:54:15.9995"
         ],
         "title": {
          "text": "Date"
         },
         "type": "date"
        },
        "yaxis": {
         "anchor": "x",
         "autorange": true,
         "domain": [
          0,
          1
         ],
         "range": [
          282.8794562274826,
          282.8794562304101
         ],
         "title": {
          "text": "Stock Price"
         },
         "type": "linear"
        }
       }
      },
      "image/png": "[encoded data removed]",
      "text/html": [
       "<div>                            <div id=\"2be4a8bc-eace-4796-b403-6b3777c93a9d\" class=\"plotly-graph-div\" style=\"height:525px; width:100%;\"></div>            <script type=\"text/javascript\">                require([\"plotly\"], function(Plotly) {                    window.PLOTLYENV=window.PLOTLYENV || {};                                    if (document.getElementById(\"2be4a8bc-eace-4796-b403-6b3777c93a9d\")) {                    Plotly.newPlot(                        \"2be4a8bc-eace-4796-b403-6b3777c93a9d\",                        [{\"hovertemplate\":\"Date=%{x}\\u003cbr\\u003eStock Price=%{y}\\u003cextra\\u003e\\u003c\\u002fextra\\u003e\",\"legendgroup\":\"\",\"line\":{\"color\":\"#636efa\",\"dash\":\"solid\"},\"marker\":{\"symbol\":\"circle\"},\"mode\":\"lines\",\"name\":\"\",\"orientation\":\"v\",\"showlegend\":false,\"x\":[\"2023-08-18T22:54:15.999516+00:00\",\"2023-08-18T23:54:15.999516+00:00\",\"2023-08-19T00:54:15.999516+00:00\",\"2023-08-19T01:54:15.999516+00:00\",\"2023-08-19T02:54:15.999516+00:00\",\"2023-08-19T03:54:15.999516+00:00\",\"2023-08-19T04:54:15.999516+00:00\",\"2023-08-19T05:54:15.999516+00:00\",\"2023-08-19T06:54:15.999516+00:00\",\"2023-08-19T07:54:15.999516+00:00\",\"2023-08-19T08:54:15.999516+00:00\",\"2023-08-19T09:54:15.999516+00:00\",\"2023-08-19T10:54:15.999516+00:00\",\"2023-08-19T11:54:15.999516+00:00\",\"2023-08-19T12:54:15.999516+00:00\",\"2023-08-19T13:54:15.999516+00:00\",\"2023-08-19T14:54:15.999516+00:00\",\"2023-08-19T15:54:15.999516+00:00\",\"2023-08-19T16:54:15.999516+00:00\",\"2023-08-19T17:54:15.999516+00:00\"],\"xaxis\":\"x\",\"y\":[282.8794562302637,282.8794562302637,282.8794562302637,282.8794562302637,282.87945622762896,282.8794562302637,282.8794562302637,282.8794562302637,282.8794562302637,282.8794562302637,282.87945622762896,282.8794562302637,282.8794562302637,282.8794562302637,282.8794562302637,282.8794562302637,282.8794562302637,282.87945622762896,282.8794562302637,282.8794562302637],\"yaxis\":\"y\",\"type\":\"scatter\"}],                        {\"template\":{\"data\":{\"histogram2dcontour\":[{\"type\":\"histogram2dcontour\",\"colorbar\":{\"outlinewidth\":0,\"ticks\":\"\"},\"colorscale\":[[0.0,\"#0d0887\"],[0.1111111111111111,\"#46039f\"],[0.2222222222222222,\"#7201a8\"],[0.3333333333333333,\"#9c179e\"],[0.4444444444444444,\"#bd3786\"],[0.5555555555555556,\"#d8576b\"],[0.6666666666666666,\"#ed7953\"],[0.7777777777777778,\"#fb9f3a\"],[0.8888888888888888,\"#fdca26\"],[1.0,\"#f0f921\"]]}],\"choropleth\":[{\"type\":\"choropleth\",\"colorbar\":{\"outlinewidth\":0,\"ticks\":\"\"}}],\"histogram2d\":[{\"type\":\"histogram2d\",\"colorbar\":{\"outlinewidth\":0,\"ticks\":\"\"},\"colorscale\":[[0.0,\"#0d0887\"],[0.1111111111111111,\"#46039f\"],[0.2222222222222222,\"#7201a8\"],[0.3333333333333333,\"#9c179e\"],[0.4444444444444444,\"#bd3786\"],[0.5555555555555556,\"#d8576b\"],[0.6666666666666666,\"#ed7953\"],[0.7777777777777778,\"#fb9f3a\"],[0.8888888888888888,\"#fdca26\"],[1.0,\"#f0f921\"]]}],\"heatmap\":[{\"type\":\"heatmap\",\"colorbar\":{\"outlinewidth\":0,\"ticks\":\"\"},\"colorscale\":[[0.0,\"#0d0887\"],[0.1111111111111111,\"#46039f\"],[0.2222222222222222,\"#7201a8\"],[0.3333333333333333,\"#9c179e\"],[0.4444444444444444,\"#bd3786\"],[0.5555555555555556,\"#d8576b\"],[0.6666666666666666,\"#ed7953\"],[0.7777777777777778,\"#fb9f3a\"],[0.8888888888888888,\"#fdca26\"],[1.0,\"#f0f921\"]]}],\"heatmapgl\":[{\"type\":\"heatmapgl\",\"colorbar\":{\"outlinewidth\":0,\"ticks\":\"\"},\"colorscale\":[[0.0,\"#0d0887\"],[0.1111111111111111,\"#46039f\"],[0.2222222222222222,\"#7201a8\"],[0.3333333333333333,\"#9c179e\"],[0.4444444444444444,\"#bd3786\"],[0.5555555555555556,\"#d8576b\"],[0.6666666666666666,\"#ed7953\"],[0.7777777777777778,\"#fb9f3a\"],[0.8888888888888888,\"#fdca26\"],[1.0,\"#f0f921\"]]}],\"contourcarpet\":[{\"type\":\"contourcarpet\",\"colorbar\":{\"outlinewidth\":0,\"ticks\":\"\"}}],\"contour\":[{\"type\":\"contour\",\"colorbar\":{\"outlinewidth\":0,\"ticks\":\"\"},\"colorscale\":[[0.0,\"#0d0887\"],[0.1111111111111111,\"#46039f\"],[0.2222222222222222,\"#7201a8\"],[0.3333333333333333,\"#9c179e\"],[0.4444444444444444,\"#bd3786\"],[0.5555555555555556,\"#d8576b\"],[0.6666666666666666,\"#ed7953\"],[0.7777777777777778,\"#fb9f3a\"],[0.8888888888888888,\"#fdca26\"],[1.0,\"#f0f921\"]]}],\"surface\":[{\"type\":\"surface\",\"colorbar\":{\"outlinewidth\":0,\"ticks\":\"\"},\"colorscale\":[[0.0,\"#0d0887\"],[0.1111111111111111,\"#46039f\"],[0.2222222222222222,\"#7201a8\"],[0.3333333333333333,\"#9c179e\"],[0.4444444444444444,\"#bd3786\"],[0.5555555555555556,\"#d8576b\"],[0.6666666666666666,\"#ed7953\"],[0.7777777777777778,\"#fb9f3a\"],[0.8888888888888888,\"#fdca26\"],[1.0,\"#f0f921\"]]}],\"mesh3d\":[{\"type\":\"mesh3d\",\"colorbar\":{\"outlinewidth\":0,\"ticks\":\"\"}}],\"scatter\":[{\"fillpattern\":{\"fillmode\":\"overlay\",\"size\":10,\"solidity\":0.2},\"type\":\"scatter\"}],\"parcoords\":[{\"type\":\"parcoords\",\"line\":{\"colorbar\":{\"outlinewidth\":0,\"ticks\":\"\"}}}],\"scatterpolargl\":[{\"type\":\"scatterpolargl\",\"marker\":{\"colorbar\":{\"outlinewidth\":0,\"ticks\":\"\"}}}],\"bar\":[{\"error_x\":{\"color\":\"#2a3f5f\"},\"error_y\":{\"color\":\"#2a3f5f\"},\"marker\":{\"line\":{\"color\":\"#E5ECF6\",\"width\":0.5},\"pattern\":{\"fillmode\":\"overlay\",\"size\":10,\"solidity\":0.2}},\"type\":\"bar\"}],\"scattergeo\":[{\"type\":\"scattergeo\",\"marker\":{\"colorbar\":{\"outlinewidth\":0,\"ticks\":\"\"}}}],\"scatterpolar\":[{\"type\":\"scatterpolar\",\"marker\":{\"colorbar\":{\"outlinewidth\":0,\"ticks\":\"\"}}}],\"histogram\":[{\"marker\":{\"pattern\":{\"fillmode\":\"overlay\",\"size\":10,\"solidity\":0.2}},\"type\":\"histogram\"}],\"scattergl\":[{\"type\":\"scattergl\",\"marker\":{\"colorbar\":{\"outlinewidth\":0,\"ticks\":\"\"}}}],\"scatter3d\":[{\"type\":\"scatter3d\",\"line\":{\"colorbar\":{\"outlinewidth\":0,\"ticks\":\"\"}},\"marker\":{\"colorbar\":{\"outlinewidth\":0,\"ticks\":\"\"}}}],\"scattermapbox\":[{\"type\":\"scattermapbox\",\"marker\":{\"colorbar\":{\"outlinewidth\":0,\"ticks\":\"\"}}}],\"scatterternary\":[{\"type\":\"scatterternary\",\"marker\":{\"colorbar\":{\"outlinewidth\":0,\"ticks\":\"\"}}}],\"scattercarpet\":[{\"type\":\"scattercarpet\",\"marker\":{\"colorbar\":{\"outlinewidth\":0,\"ticks\":\"\"}}}],\"carpet\":[{\"aaxis\":{\"endlinecolor\":\"#2a3f5f\",\"gridcolor\":\"white\",\"linecolor\":\"white\",\"minorgridcolor\":\"white\",\"startlinecolor\":\"#2a3f5f\"},\"baxis\":{\"endlinecolor\":\"#2a3f5f\",\"gridcolor\":\"white\",\"linecolor\":\"white\",\"minorgridcolor\":\"white\",\"startlinecolor\":\"#2a3f5f\"},\"type\":\"carpet\"}],\"table\":[{\"cells\":{\"fill\":{\"color\":\"#EBF0F8\"},\"line\":{\"color\":\"white\"}},\"header\":{\"fill\":{\"color\":\"#C8D4E3\"},\"line\":{\"color\":\"white\"}},\"type\":\"table\"}],\"barpolar\":[{\"marker\":{\"line\":{\"color\":\"#E5ECF6\",\"width\":0.5},\"pattern\":{\"fillmode\":\"overlay\",\"size\":10,\"solidity\":0.2}},\"type\":\"barpolar\"}],\"pie\":[{\"automargin\":true,\"type\":\"pie\"}]},\"layout\":{\"autotypenumbers\":\"strict\",\"colorway\":[\"#636efa\",\"#EF553B\",\"#00cc96\",\"#ab63fa\",\"#FFA15A\",\"#19d3f3\",\"#FF6692\",\"#B6E880\",\"#FF97FF\",\"#FECB52\"],\"font\":{\"color\":\"#2a3f5f\"},\"hovermode\":\"closest\",\"hoverlabel\":{\"align\":\"left\"},\"paper_bgcolor\":\"white\",\"plot_bgcolor\":\"#E5ECF6\",\"polar\":{\"bgcolor\":\"#E5ECF6\",\"angularaxis\":{\"gridcolor\":\"white\",\"linecolor\":\"white\",\"ticks\":\"\"},\"radialaxis\":{\"gridcolor\":\"white\",\"linecolor\":\"white\",\"ticks\":\"\"}},\"ternary\":{\"bgcolor\":\"#E5ECF6\",\"aaxis\":{\"gridcolor\":\"white\",\"linecolor\":\"white\",\"ticks\":\"\"},\"baxis\":{\"gridcolor\":\"white\",\"linecolor\":\"white\",\"ticks\":\"\"},\"caxis\":{\"gridcolor\":\"white\",\"linecolor\":\"white\",\"ticks\":\"\"}},\"coloraxis\":{\"colorbar\":{\"outlinewidth\":0,\"ticks\":\"\"}},\"colorscale\":{\"sequential\":[[0.0,\"#0d0887\"],[0.1111111111111111,\"#46039f\"],[0.2222222222222222,\"#7201a8\"],[0.3333333333333333,\"#9c179e\"],[0.4444444444444444,\"#bd3786\"],[0.5555555555555556,\"#d8576b\"],[0.6666666666666666,\"#ed7953\"],[0.7777777777777778,\"#fb9f3a\"],[0.8888888888888888,\"#fdca26\"],[1.0,\"#f0f921\"]],\"sequentialminus\":[[0.0,\"#0d0887\"],[0.1111111111111111,\"#46039f\"],[0.2222222222222222,\"#7201a8\"],[0.3333333333333333,\"#9c179e\"],[0.4444444444444444,\"#bd3786\"],[0.5555555555555556,\"#d8576b\"],[0.6666666666666666,\"#ed7953\"],[0.7777777777777778,\"#fb9f3a\"],[0.8888888888888888,\"#fdca26\"],[1.0,\"#f0f921\"]],\"diverging\":[[0,\"#8e0152\"],[0.1,\"#c51b7d\"],[0.2,\"#de77ae\"],[0.3,\"#f1b6da\"],[0.4,\"#fde0ef\"],[0.5,\"#f7f7f7\"],[0.6,\"#e6f5d0\"],[0.7,\"#b8e186\"],[0.8,\"#7fbc41\"],[0.9,\"#4d9221\"],[1,\"#276419\"]]},\"xaxis\":{\"gridcolor\":\"white\",\"linecolor\":\"white\",\"ticks\":\"\",\"title\":{\"standoff\":15},\"zerolinecolor\":\"white\",\"automargin\":true,\"zerolinewidth\":2},\"yaxis\":{\"gridcolor\":\"white\",\"linecolor\":\"white\",\"ticks\":\"\",\"title\":{\"standoff\":15},\"zerolinecolor\":\"white\",\"automargin\":true,\"zerolinewidth\":2},\"scene\":{\"xaxis\":{\"backgroundcolor\":\"#E5ECF6\",\"gridcolor\":\"white\",\"linecolor\":\"white\",\"showbackground\":true,\"ticks\":\"\",\"zerolinecolor\":\"white\",\"gridwidth\":2},\"yaxis\":{\"backgroundcolor\":\"#E5ECF6\",\"gridcolor\":\"white\",\"linecolor\":\"white\",\"showbackground\":true,\"ticks\":\"\",\"zerolinecolor\":\"white\",\"gridwidth\":2},\"zaxis\":{\"backgroundcolor\":\"#E5ECF6\",\"gridcolor\":\"white\",\"linecolor\":\"white\",\"showbackground\":true,\"ticks\":\"\",\"zerolinecolor\":\"white\",\"gridwidth\":2}},\"shapedefaults\":{\"line\":{\"color\":\"#2a3f5f\"}},\"annotationdefaults\":{\"arrowcolor\":\"#2a3f5f\",\"arrowhead\":0,\"arrowwidth\":1},\"geo\":{\"bgcolor\":\"white\",\"landcolor\":\"#E5ECF6\",\"subunitcolor\":\"white\",\"showland\":true,\"showlakes\":true,\"lakecolor\":\"white\"},\"title\":{\"x\":0.05},\"mapbox\":{\"style\":\"light\"}}},\"xaxis\":{\"anchor\":\"y\",\"domain\":[0.0,1.0],\"title\":{\"text\":\"Date\"}},\"yaxis\":{\"anchor\":\"x\",\"domain\":[0.0,1.0],\"title\":{\"text\":\"Stock Price\"}},\"legend\":{\"tracegroupgap\":0},\"title\":{\"text\":\"Stock Price Over Time\"}},                        {\"responsive\": true}                    ).then(function(){\n",
       "                            \n",
       "var gd = document.getElementById('2be4a8bc-eace-4796-b403-6b3777c93a9d');\n",
       "var x = new MutationObserver(function (mutations, observer) {{\n",
       "        var display = window.getComputedStyle(gd).display;\n",
       "        if (!display || display === 'none') {{\n",
       "            console.log([gd, 'removed!']);\n",
       "            Plotly.purge(gd);\n",
       "            observer.disconnect();\n",
       "        }}\n",
       "}});\n",
       "\n",
       "// Listen for the removal of the full notebook cells\n",
       "var notebookContainer = gd.closest('#notebook-container');\n",
       "if (notebookContainer) {{\n",
       "    x.observe(notebookContainer, {childList: true});\n",
       "}}\n",
       "\n",
       "// Listen for the clearing of the current output cell\n",
       "var outputEl = gd.closest('.output');\n",
       "if (outputEl) {{\n",
       "    x.observe(outputEl, {childList: true});\n",
       "}}\n",
       "\n",
       "                        })                };                });            </script>        </div>"
      ]
     },
     "metadata": {},
     "output_type": "display_data"
    }
   ],
   "source": [
    "import plotly.express as px\n",
    "\n",
    "# Create a line plot\n",
    "fig = px.line(df, x='Date', y='Stock Price', title='Stock Price Over Time')\n",
    "\n",
    "# Show the plot\n",
    "fig.show()"
   ]
  },
  {
   "cell_type": "code",
   "execution_count": null,
   "id": "207517a9-e736-4640-860a-05523e246d6f",
   "metadata": {},
   "outputs": [],
   "source": []
  }
 ],
 "metadata": {
  "kernelspec": {
   "display_name": "Python lee_ml_class",
   "language": "python",
   "name": "lee_ml_class_kernel"
  },
  "language_info": {
   "codemirror_mode": {
    "name": "ipython",
    "version": 3
   },
   "file_extension": ".py",
   "mimetype": "text/x-python",
   "name": "python",
   "nbconvert_exporter": "python",
   "pygments_lexer": "ipython3",
   "version": "3.10.13"
  }
 },
 "nbformat": 4,
 "nbformat_minor": 5
}
