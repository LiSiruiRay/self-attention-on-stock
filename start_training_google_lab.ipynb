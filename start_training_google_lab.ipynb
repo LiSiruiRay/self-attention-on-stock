{
 "cells": [
  {
   "cell_type": "code",
   "execution_count": 1,
   "metadata": {
    "colab": {
     "base_uri": "https://localhost:8080/"
    },
    "executionInfo": {
     "elapsed": 3089,
     "status": "ok",
     "timestamp": 1706106791316,
     "user": {
      "displayName": "Sirui Li",
      "userId": "00552347206401856914"
     },
     "user_tz": -240
    },
    "id": "EomZi27nryXw",
    "outputId": "b4c0d1d9-81f7-4977-b863-91e9a5cdc090"
   },
   "outputs": [
    {
     "name": "stdout",
     "output_type": "stream",
     "text": [
      "Cloning into 'self-attention-on-stock'...\n",
      "remote: Enumerating objects: 6188, done.\u001b[K\n",
      "remote: Counting objects: 100% (6188/6188), done.\u001b[K\n",
      "remote: Compressing objects: 100% (6108/6108), done.\u001b[K\n",
      "remote: Total 6188 (delta 86), reused 6170 (delta 68), pack-reused 0\u001b[K\n",
      "Receiving objects: 100% (6188/6188), 19.27 MiB | 19.51 MiB/s, done.\n",
      "Resolving deltas: 100% (86/86), done.\n"
     ]
    }
   ],
   "source": [
    "!git clone https://github.com/LiSiruiRay/self-attention-on-stock.git"
   ]
  },
  {
   "cell_type": "code",
   "execution_count": 2,
   "metadata": {
    "colab": {
     "base_uri": "https://localhost:8080/"
    },
    "executionInfo": {
     "elapsed": 2,
     "status": "ok",
     "timestamp": 1706106793064,
     "user": {
      "displayName": "Sirui Li",
      "userId": "00552347206401856914"
     },
     "user_tz": -240
    },
    "id": "mJK-Gdb1s8Gv",
    "outputId": "b0a2dec0-aa85-46cc-ec60-98b95c94609d"
   },
   "outputs": [
    {
     "name": "stdout",
     "output_type": "stream",
     "text": [
      "/content/self-attention-on-stock\n",
      "/content/self-attention-on-stock\n"
     ]
    }
   ],
   "source": [
    "%cd self-attention-on-stock/\n",
    "!pwd"
   ]
  },
  {
   "cell_type": "code",
   "execution_count": 3,
   "metadata": {
    "executionInfo": {
     "elapsed": 5229,
     "status": "ok",
     "timestamp": 1706106800071,
     "user": {
      "displayName": "Sirui Li",
      "userId": "00552347206401856914"
     },
     "user_tz": -240
    },
    "id": "El7nR2WxtLv6"
   },
   "outputs": [],
   "source": [
    "# Author: ray\n",
    "# Date: 1/23/24\n",
    "# Description: runable start training\n",
    "import time\n",
    "\n",
    "import torch\n",
    "from torch import nn\n",
    "\n",
    "import sys\n",
    "# Add the project root directory to Python's module search path\n",
    "sys.path.append('/content/self-attention-on-stock')"
   ]
  },
  {
   "cell_type": "code",
   "execution_count": 4,
   "metadata": {
    "colab": {
     "base_uri": "https://localhost:8080/"
    },
    "executionInfo": {
     "elapsed": 1411,
     "status": "ok",
     "timestamp": 1706106803211,
     "user": {
      "displayName": "Sirui Li",
      "userId": "00552347206401856914"
     },
     "user_tz": -240
    },
    "id": "sC3H93QOtNn2",
    "outputId": "47e26ba4-b3dc-46b4-da8d-97af8fa35a94"
   },
   "outputs": [
    {
     "name": "stdout",
     "output_type": "stream",
     "text": [
      "Hash Code: d6584ebc7b834c41be20f958e036f1a1\n"
     ]
    }
   ],
   "source": [
    "from datatype.training_dataset import Mydataset\n",
    "from training_pipeline import StockPredictionModel, train_model, validate_model, create_dataloaders, \\\n",
    "    get_cosine_schedule_with_warmup, valid, save_model, set_seed\n",
    "from util.common import get_now_time_with_time_zone"
   ]
  },
  {
   "cell_type": "code",
   "execution_count": 5,
   "metadata": {
    "colab": {
     "base_uri": "https://localhost:8080/"
    },
    "executionInfo": {
     "elapsed": 380,
     "status": "ok",
     "timestamp": 1706106804935,
     "user": {
      "displayName": "Sirui Li",
      "userId": "00552347206401856914"
     },
     "user_tz": -240
    },
    "id": "vXA5hFRNtUIy",
    "outputId": "50a30efc-bfb0-4481-86c0-1259bcec159b"
   },
   "outputs": [
    {
     "name": "stdout",
     "output_type": "stream",
     "text": [
      "[Info]: Use cuda now!\n"
     ]
    }
   ],
   "source": [
    "seed = 78\n",
    "set_seed(seed=seed)\n",
    "\n",
    "device = torch.device(\"cuda\" if torch.cuda.is_available() else \"cpu\")\n",
    "\n",
    "print(f\"[Info]: Use {device} now!\")\n",
    "\n"
   ]
  },
  {
   "cell_type": "code",
   "execution_count": 6,
   "metadata": {
    "executionInfo": {
     "elapsed": 586,
     "status": "ok",
     "timestamp": 1706106807301,
     "user": {
      "displayName": "Sirui Li",
      "userId": "00552347206401856914"
     },
     "user_tz": -240
    },
    "id": "topMFlyFtpaX"
   },
   "outputs": [],
   "source": [
    "use_reduced_passage_vec = False\n",
    "\n",
    "num_epochs = 5  # Set the number of epochs\n",
    "\n",
    "time_features = 3\n",
    "\n",
    "passage_vec_size = 128 if use_reduced_passage_vec else 768\n",
    "output_size = 6\n",
    "\n",
    "d_model = 2048\n",
    "\n",
    "num_training_steps = 5000\n",
    "\n",
    "batch_size = 2000\n",
    "nhead = 8\n",
    "transformer_encoder_layer_num = 20"
   ]
  },
  {
   "cell_type": "code",
   "execution_count": 7,
   "metadata": {
    "colab": {
     "base_uri": "https://localhost:8080/"
    },
    "executionInfo": {
     "elapsed": 4059,
     "status": "ok",
     "timestamp": 1706106813752,
     "user": {
      "displayName": "Sirui Li",
      "userId": "00552347206401856914"
     },
     "user_tz": -240
    },
    "id": "M91fnC8btXP9",
    "outputId": "1b0c251c-aeed-4651-c60b-7df301ca22ed"
   },
   "outputs": [
    {
     "name": "stderr",
     "output_type": "stream",
     "text": [
      "/usr/local/lib/python3.10/dist-packages/torch/nn/modules/transformer.py:282: UserWarning: enable_nested_tensor is True, but self.use_nested_tensor is False because encoder_layer.self_attn.batch_first was not True(use batch_first for better inference performance)\n",
      "  warnings.warn(f\"enable_nested_tensor is True, but self.use_nested_tensor is False because {why_not_sparsity_fast_path}\")\n"
     ]
    },
    {
     "name": "stdout",
     "output_type": "stream",
     "text": [
      "[Info]: Finish creating model!\n"
     ]
    }
   ],
   "source": [
    "model = StockPredictionModel(passage_vec_size=passage_vec_size,\n",
    "                             time_features=time_features,\n",
    "                             d_model=d_model,\n",
    "                             output_size=output_size,\n",
    "                             nhead=nhead,\n",
    "                             transformer_encoder_layer_num=transformer_encoder_layer_num)\n",
    "\n",
    "model = model.to(device).float()\n",
    "\n",
    "mds = Mydataset(use_reduced_passage_vec=use_reduced_passage_vec)\n",
    "\n",
    "train_loader, test_loader = create_dataloaders(dataset=mds,\n",
    "                                               batch_size=batch_size)\n",
    "\n",
    "criterion = nn.MSELoss()\n",
    "optimizer = torch.optim.Adam(model.parameters(), lr=0.001)\n",
    "scheduler = get_cosine_schedule_with_warmup(optimizer, num_warmup_steps=100, num_training_steps=num_training_steps)\n",
    "print(f\"[Info]: Finish creating model!\", flush=True)"
   ]
  },
  {
   "cell_type": "code",
   "execution_count": 7,
   "metadata": {
    "executionInfo": {
     "elapsed": 568,
     "status": "ok",
     "timestamp": 1706106819086,
     "user": {
      "displayName": "Sirui Li",
      "userId": "00552347206401856914"
     },
     "user_tz": -240
    },
    "id": "gGQ0K5bBuAe1"
   },
   "outputs": [],
   "source": []
  },
  {
   "cell_type": "code",
   "execution_count": null,
   "metadata": {
    "colab": {
     "base_uri": "https://localhost:8080/"
    },
    "id": "CCcsiszjtxqb",
    "outputId": "339b8124-975f-4cbd-c038-fd2ec329f539"
   },
   "outputs": [
    {
     "name": "stdout",
     "output_type": "stream",
     "text": [
      "Epoch [1/5]\n"
     ]
    },
    {
     "name": "stderr",
     "output_type": "stream",
     "text": [
      "Train:  24% 1201/5000 [41:56<2:10:37,  2.06s/ step, loss=0.10, step=1201]"
     ]
    }
   ],
   "source": [
    "from tqdm.notebook import tqdm\n",
    "# pbar = tqdm(total=num_training_steps, ncols=0, desc=\"Train\", unit=\" step\")\n",
    "\n",
    "training_start_time = time.time()\n",
    "train_model(model=model,\n",
    "            train_loader=train_loader,\n",
    "            criterion=criterion,\n",
    "            optimizer=optimizer,\n",
    "            scheduler=scheduler,\n",
    "            num_epochs=num_epochs,\n",
    "            device=device,\n",
    "            num_training_steps=num_training_steps,\n",
    "            pbar=None)\n",
    "valid(model=model, dataloader=test_loader, criterion=criterion, device=device)\n",
    "training_end_time = time.time()\n",
    "training_duration = training_end_time - training_start_time"
   ]
  },
  {
   "cell_type": "code",
   "execution_count": null,
   "metadata": {
    "id": "nefebuTBCdp4"
   },
   "outputs": [],
   "source": [
    "from google.colab import drive\n",
    "drive.mount('/content/drive')"
   ]
  },
  {
   "cell_type": "code",
   "execution_count": null,
   "metadata": {
    "id": "vkdN3bcvuMkJ"
   },
   "outputs": [],
   "source": [
    "\n",
    "description = \"more layer training, this spent more GPU RAM (11 / 15)\"\n",
    "\n",
    "now_time_str = get_now_time_with_time_zone()\n",
    "\n",
    "training_machine = \"Google Colab 15GB T4 GPU\"\n",
    "\n",
    "model_info = {\n",
    "    \"passage vector size\": passage_vec_size,\n",
    "    \"num of epochs\": num_epochs,\n",
    "    \"d_model\": d_model,\n",
    "    \"description\": description,\n",
    "    \"time started training\": now_time_str,\n",
    "    \"training step num\": num_training_steps,\n",
    "    \"batch size\": batch_size,\n",
    "    \"seed\": seed,\n",
    "    \"nhead\": nhead,\n",
    "    \"transformer encoder layer num\": transformer_encoder_layer_num,\n",
    "    \"training time (sec)\": training_duration,\n",
    "    \"training machine\": training_machine,\n",
    "}\n",
    "\n",
    "save_model(model=model,\n",
    "           info=model_info)"
   ]
  },
  {
   "cell_type": "code",
   "execution_count": null,
   "metadata": {
    "id": "VDfrgWVZxVHo"
   },
   "outputs": [],
   "source": []
  }
 ],
 "metadata": {
  "accelerator": "GPU",
  "colab": {
   "authorship_tag": "ABX9TyO1ltKxdSgkxmxc/Ynkglai",
   "gpuType": "T4",
   "provenance": [
    {
     "file_id": "1D82CJNdvUIhQc4qbs64-vmTbsPJSa0UB",
     "timestamp": 1706109356662
    }
   ]
  },
  "kernelspec": {
   "display_name": "Python 3 (ipykernel)",
   "language": "python",
   "name": "python3"
  },
  "language_info": {
   "codemirror_mode": {
    "name": "ipython",
    "version": 3
   },
   "file_extension": ".py",
   "mimetype": "text/x-python",
   "name": "python",
   "nbconvert_exporter": "python",
   "pygments_lexer": "ipython3",
   "version": "3.10.13"
  }
 },
 "nbformat": 4,
 "nbformat_minor": 4
}
