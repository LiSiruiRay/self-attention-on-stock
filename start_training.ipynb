{
 "nbformat": 4,
 "nbformat_minor": 0,
 "metadata": {
  "colab": {
   "provenance": [
    {
     "file_id": "1D82CJNdvUIhQc4qbs64-vmTbsPJSa0UB",
     "timestamp": 1706109356662
    }
   ],
   "gpuType": "T4",
   "authorship_tag": "ABX9TyO1ltKxdSgkxmxc/Ynkglai"
  },
  "kernelspec": {
   "name": "python3",
   "display_name": "Python 3"
  },
  "language_info": {
   "name": "python"
  },
  "accelerator": "GPU"
 },
 "cells": [
  {
   "cell_type": "code",
   "execution_count": null,
   "metadata": {
    "colab": {
     "base_uri": "https://localhost:8080/"
    },
    "id": "EomZi27nryXw",
    "executionInfo": {
     "status": "ok",
     "timestamp": 1706106791316,
     "user_tz": -240,
     "elapsed": 3089,
     "user": {
      "displayName": "Sirui Li",
      "userId": "00552347206401856914"
     }
    },
    "outputId": "b4c0d1d9-81f7-4977-b863-91e9a5cdc090",
    "is_executing": true
   },
   "outputs": [],
   "source": []
  },
  {
   "cell_type": "code",
   "source": [],
   "metadata": {
    "colab": {
     "base_uri": "https://localhost:8080/"
    },
    "id": "mJK-Gdb1s8Gv",
    "executionInfo": {
     "status": "ok",
     "timestamp": 1706106793064,
     "user_tz": -240,
     "elapsed": 2,
     "user": {
      "displayName": "Sirui Li",
      "userId": "00552347206401856914"
     }
    },
    "outputId": "b0a2dec0-aa85-46cc-ec60-98b95c94609d",
    "is_executing": true
   },
   "execution_count": null,
   "outputs": []
  },
  {
   "cell_type": "code",
   "source": [
    "# Author: ray\n",
    "# Date: 1/23/24\n",
    "# Description: runable start training\n",
    "import time\n",
    "\n",
    "import torch\n",
    "from torch import nn\n",
    "\n",
    "import sys\n",
    "# Add the project root directory to Python's module search path\n",
    "sys.path.append('/content/self-attention-on-stock')"
   ],
   "metadata": {
    "id": "El7nR2WxtLv6",
    "executionInfo": {
     "status": "ok",
     "timestamp": 1706106800071,
     "user_tz": -240,
     "elapsed": 5229,
     "user": {
      "displayName": "Sirui Li",
      "userId": "00552347206401856914"
     }
    },
    "is_executing": true
   },
   "execution_count": null,
   "outputs": []
  },
  {
   "cell_type": "code",
   "source": [
    "from datatype.training_dataset import Mydataset\n",
    "from training_pipeline import StockPredictionModel, train_model, validate_model, create_dataloaders, \\\n",
    "    get_cosine_schedule_with_warmup, valid, save_model, set_seed\n",
    "from util.common import get_now_time_with_time_zone"
   ],
   "metadata": {
    "id": "sC3H93QOtNn2",
    "executionInfo": {
     "status": "ok",
     "timestamp": 1706106803211,
     "user_tz": -240,
     "elapsed": 1411,
     "user": {
      "displayName": "Sirui Li",
      "userId": "00552347206401856914"
     }
    },
    "colab": {
     "base_uri": "https://localhost:8080/"
    },
    "outputId": "47e26ba4-b3dc-46b4-da8d-97af8fa35a94",
    "is_executing": true
   },
   "execution_count": null,
   "outputs": []
  },
  {
   "cell_type": "code",
   "source": [
    "seed = 78\n",
    "set_seed(seed=seed)\n",
    "\n",
    "device = torch.device(\"cuda\" if torch.cuda.is_available() else \"cpu\")\n",
    "\n",
    "print(f\"[Info]: Use {device} now!\")\n",
    "\n"
   ],
   "metadata": {
    "colab": {
     "base_uri": "https://localhost:8080/"
    },
    "id": "vXA5hFRNtUIy",
    "executionInfo": {
     "status": "ok",
     "timestamp": 1706106804935,
     "user_tz": -240,
     "elapsed": 380,
     "user": {
      "displayName": "Sirui Li",
      "userId": "00552347206401856914"
     }
    },
    "outputId": "50a30efc-bfb0-4481-86c0-1259bcec159b",
    "is_executing": true
   },
   "execution_count": null,
   "outputs": []
  },
  {
   "cell_type": "code",
   "source": [
    "use_reduced_passage_vec = False\n",
    "\n",
    "num_epochs = 5  # Set the number of epochs\n",
    "\n",
    "time_features = 3\n",
    "\n",
    "passage_vec_size = 128 if use_reduced_passage_vec else 768\n",
    "output_size = 6\n",
    "\n",
    "d_model = 2048\n",
    "\n",
    "num_training_steps = 5000\n",
    "\n",
    "batch_size = 2000\n",
    "nhead = 8\n",
    "transformer_encoder_layer_num = 20"
   ],
   "metadata": {
    "id": "topMFlyFtpaX",
    "executionInfo": {
     "status": "ok",
     "timestamp": 1706106807301,
     "user_tz": -240,
     "elapsed": 586,
     "user": {
      "displayName": "Sirui Li",
      "userId": "00552347206401856914"
     }
    },
    "is_executing": true
   },
   "execution_count": null,
   "outputs": []
  },
  {
   "cell_type": "code",
   "source": [
    "model = StockPredictionModel(passage_vec_size=passage_vec_size,\n",
    "                             time_features=time_features,\n",
    "                             d_model=d_model,\n",
    "                             output_size=output_size,\n",
    "                             nhead=nhead,\n",
    "                             transformer_encoder_layer_num=transformer_encoder_layer_num)\n",
    "\n",
    "model = model.to(device).float()\n",
    "\n",
    "mds = Mydataset(use_reduced_passage_vec=use_reduced_passage_vec)\n",
    "\n",
    "train_loader, test_loader = create_dataloaders(dataset=mds,\n",
    "                                               batch_size=batch_size)\n",
    "\n",
    "criterion = nn.MSELoss()\n",
    "optimizer = torch.optim.Adam(model.parameters(), lr=0.001)\n",
    "scheduler = get_cosine_schedule_with_warmup(optimizer, num_warmup_steps=100, num_training_steps=num_training_steps)\n",
    "print(f\"[Info]: Finish creating model!\", flush=True)"
   ],
   "metadata": {
    "colab": {
     "base_uri": "https://localhost:8080/"
    },
    "id": "M91fnC8btXP9",
    "executionInfo": {
     "status": "ok",
     "timestamp": 1706106813752,
     "user_tz": -240,
     "elapsed": 4059,
     "user": {
      "displayName": "Sirui Li",
      "userId": "00552347206401856914"
     }
    },
    "outputId": "1b0c251c-aeed-4651-c60b-7df301ca22ed",
    "is_executing": true
   },
   "execution_count": null,
   "outputs": []
  },
  {
   "cell_type": "code",
   "source": [],
   "metadata": {
    "id": "gGQ0K5bBuAe1",
    "executionInfo": {
     "status": "ok",
     "timestamp": 1706106819086,
     "user_tz": -240,
     "elapsed": 568,
     "user": {
      "displayName": "Sirui Li",
      "userId": "00552347206401856914"
     }
    },
    "is_executing": true
   },
   "execution_count": null,
   "outputs": []
  },
  {
   "cell_type": "code",
   "source": [
    "from tqdm.notebook import tqdm\n",
    "# pbar = tqdm(total=num_training_steps, ncols=0, desc=\"Train\", unit=\" step\")\n",
    "\n",
    "training_start_time = time.time()\n",
    "train_model(model=model,\n",
    "            train_loader=train_loader,\n",
    "            criterion=criterion,\n",
    "            optimizer=optimizer,\n",
    "            scheduler=scheduler,\n",
    "            num_epochs=num_epochs,\n",
    "            device=device,\n",
    "            num_training_steps=num_training_steps,\n",
    "            pbar=None)\n",
    "valid(model=model, dataloader=test_loader, criterion=criterion, device=device)\n",
    "training_end_time = time.time()\n",
    "training_duration = training_end_time - training_start_time"
   ],
   "metadata": {
    "colab": {
     "base_uri": "https://localhost:8080/"
    },
    "id": "CCcsiszjtxqb",
    "outputId": "339b8124-975f-4cbd-c038-fd2ec329f539",
    "is_executing": true
   },
   "execution_count": null,
   "outputs": []
  },
  {
   "cell_type": "code",
   "source": [
    "from google.colab import drive\n",
    "drive.mount('/content/drive')"
   ],
   "metadata": {
    "id": "nefebuTBCdp4",
    "is_executing": true
   },
   "execution_count": null,
   "outputs": []
  },
  {
   "cell_type": "code",
   "source": [
    "\n",
    "description = \"more layer training, this spent more GPU RAM (11 / 15)\"\n",
    "\n",
    "now_time_str = get_now_time_with_time_zone()\n",
    "\n",
    "training_machine = \"Google Colab 15GB T4 GPU\"\n",
    "\n",
    "model_info = {\n",
    "    \"passage vector size\": passage_vec_size,\n",
    "    \"num of epochs\": num_epochs,\n",
    "    \"d_model\": d_model,\n",
    "    \"description\": description,\n",
    "    \"time started training\": now_time_str,\n",
    "    \"training step num\": num_training_steps,\n",
    "    \"batch size\": batch_size,\n",
    "    \"seed\": seed,\n",
    "    \"nhead\": nhead,\n",
    "    \"transformer encoder layer num\": transformer_encoder_layer_num,\n",
    "    \"training time (sec)\": training_duration,\n",
    "    \"training machine\": training_machine,\n",
    "}\n",
    "\n",
    "save_model(model=model,\n",
    "           info=model_info)"
   ],
   "metadata": {
    "id": "vkdN3bcvuMkJ",
    "is_executing": true
   },
   "execution_count": null,
   "outputs": []
  },
  {
   "cell_type": "code",
   "source": [],
   "metadata": {
    "id": "VDfrgWVZxVHo",
    "is_executing": true
   },
   "execution_count": null,
   "outputs": []
  }
 ]
}
